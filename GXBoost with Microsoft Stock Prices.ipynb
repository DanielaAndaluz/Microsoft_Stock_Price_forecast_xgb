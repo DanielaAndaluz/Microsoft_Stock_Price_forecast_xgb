{
 "cells": [
  {
   "cell_type": "code",
   "execution_count": 94,
   "metadata": {},
   "outputs": [],
   "source": [
    "#Import libraries\n",
    "import numpy as np\n",
    "import pandas as pd\n",
    "import xgboost as xgb\n",
    "from sklearn.metrics import mean_absolute_error\n",
    "import matplotlib.pyplot as plt\n",
    "from statsmodels.tsa.seasonal import seasonal_decompose\n",
    "from datetime import datetime\n",
    "from matplotlib import pyplot\n"
   ]
  },
  {
   "cell_type": "code",
   "execution_count": 95,
   "metadata": {},
   "outputs": [],
   "source": [
    "def mean_absolute_percentage_error(y_true, y_pred): \n",
    "    y_true, y_pred = np.array(y_true), np.array(y_pred)\n",
    "    return np.mean(np.abs((y_true - y_pred) / y_true)) * 100"
   ]
  },
  {
   "cell_type": "code",
   "execution_count": 96,
   "metadata": {},
   "outputs": [
    {
     "data": {
      "text/html": [
       "<div>\n",
       "<style scoped>\n",
       "    .dataframe tbody tr th:only-of-type {\n",
       "        vertical-align: middle;\n",
       "    }\n",
       "\n",
       "    .dataframe tbody tr th {\n",
       "        vertical-align: top;\n",
       "    }\n",
       "\n",
       "    .dataframe thead th {\n",
       "        text-align: right;\n",
       "    }\n",
       "</style>\n",
       "<table border=\"1\" class=\"dataframe\">\n",
       "  <thead>\n",
       "    <tr style=\"text-align: right;\">\n",
       "      <th></th>\n",
       "      <th>date</th>\n",
       "      <th>close</th>\n",
       "      <th>volume</th>\n",
       "      <th>open</th>\n",
       "      <th>high</th>\n",
       "      <th>low</th>\n",
       "    </tr>\n",
       "  </thead>\n",
       "  <tbody>\n",
       "    <tr>\n",
       "      <th>0</th>\n",
       "      <td>2008-09-04</td>\n",
       "      <td>26.35</td>\n",
       "      <td>66138490</td>\n",
       "      <td>26.74</td>\n",
       "      <td>26.89</td>\n",
       "      <td>26.35</td>\n",
       "    </tr>\n",
       "    <tr>\n",
       "      <th>1</th>\n",
       "      <td>2008-09-05</td>\n",
       "      <td>25.65</td>\n",
       "      <td>82222430</td>\n",
       "      <td>26.03</td>\n",
       "      <td>26.22</td>\n",
       "      <td>25.63</td>\n",
       "    </tr>\n",
       "    <tr>\n",
       "      <th>2</th>\n",
       "      <td>2008-09-08</td>\n",
       "      <td>26.12</td>\n",
       "      <td>62109170</td>\n",
       "      <td>26.21</td>\n",
       "      <td>26.33</td>\n",
       "      <td>25.67</td>\n",
       "    </tr>\n",
       "    <tr>\n",
       "      <th>3</th>\n",
       "      <td>2008-09-09</td>\n",
       "      <td>26.10</td>\n",
       "      <td>85693570</td>\n",
       "      <td>26.20</td>\n",
       "      <td>26.60</td>\n",
       "      <td>26.05</td>\n",
       "    </tr>\n",
       "    <tr>\n",
       "      <th>4</th>\n",
       "      <td>2008-09-10</td>\n",
       "      <td>26.44</td>\n",
       "      <td>75042030</td>\n",
       "      <td>26.52</td>\n",
       "      <td>26.86</td>\n",
       "      <td>26.25</td>\n",
       "    </tr>\n",
       "  </tbody>\n",
       "</table>\n",
       "</div>"
      ],
      "text/plain": [
       "        date  close    volume   open   high    low\n",
       "0 2008-09-04  26.35  66138490  26.74  26.89  26.35\n",
       "1 2008-09-05  25.65  82222430  26.03  26.22  25.63\n",
       "2 2008-09-08  26.12  62109170  26.21  26.33  25.67\n",
       "3 2008-09-09  26.10  85693570  26.20  26.60  26.05\n",
       "4 2008-09-10  26.44  75042030  26.52  26.86  26.25"
      ]
     },
     "execution_count": 96,
     "metadata": {},
     "output_type": "execute_result"
    }
   ],
   "source": [
    "stock_prices=pd.read_csv('C:/Users/80214178/Downloads/HistoricalQuotes.csv',dayfirst=True, parse_dates=[0])\n",
    "stock_prices.head()"
   ]
  },
  {
   "cell_type": "code",
   "execution_count": 97,
   "metadata": {},
   "outputs": [],
   "source": [
    "stock_prices['close']=stock_prices['close'].astype(np.float)"
   ]
  },
  {
   "cell_type": "code",
   "execution_count": 98,
   "metadata": {},
   "outputs": [
    {
     "data": {
      "text/plain": [
       "[<matplotlib.lines.Line2D at 0x2c8a9490108>]"
      ]
     },
     "execution_count": 98,
     "metadata": {},
     "output_type": "execute_result"
    },
    {
     "data": {
      "image/png": "[encoded data removed]",
      "text/plain": [
       "<Figure size 432x288 with 1 Axes>"
      ]
     },
     "metadata": {
      "needs_background": "light"
     },
     "output_type": "display_data"
    }
   ],
   "source": [
    "plt.plot(stock_prices['date'],stock_prices['close'])"
   ]
  },
  {
   "cell_type": "code",
   "execution_count": 99,
   "metadata": {},
   "outputs": [
    {
     "data": {
      "image/png": "[encoded data removed]",
      "text/plain": [
       "<Figure size 432x288 with 4 Axes>"
      ]
     },
     "execution_count": 99,
     "metadata": {},
     "output_type": "execute_result"
    },
    {
     "data": {
      "image/png": "[encoded data removed]",
      "text/plain": [
       "<Figure size 432x288 with 4 Axes>"
      ]
     },
     "metadata": {
      "needs_background": "light"
     },
     "output_type": "display_data"
    }
   ],
   "source": [
    "data_sea=pd.DataFrame({'close':np.array(stock_prices['close'])}, index=np.array(stock_prices['date']))\n",
    "seasonal_decompose(data_sea, model='multiplicative',period=365).plot()"
   ]
  },
  {
   "cell_type": "code",
   "execution_count": 100,
   "metadata": {},
   "outputs": [
    {
     "data": {
      "text/plain": [
       "(array([ 152,  517,  882, 1247, 1612, 1977, 2342], dtype=int64),)"
      ]
     },
     "execution_count": 100,
     "metadata": {},
     "output_type": "execute_result"
    }
   ],
   "source": [
    "seasonality['flag']=np.where(seasonality[0]<.97,1,0)\n",
    "np.where(seasonality['flag'] == 1)\n",
    "#Al parecer la periodicidad es anual"
   ]
  },
  {
   "cell_type": "code",
   "execution_count": 101,
   "metadata": {},
   "outputs": [
    {
     "data": {
      "text/html": [
       "<div>\n",
       "<style scoped>\n",
       "    .dataframe tbody tr th:only-of-type {\n",
       "        vertical-align: middle;\n",
       "    }\n",
       "\n",
       "    .dataframe tbody tr th {\n",
       "        vertical-align: top;\n",
       "    }\n",
       "\n",
       "    .dataframe thead th {\n",
       "        text-align: right;\n",
       "    }\n",
       "</style>\n",
       "<table border=\"1\" class=\"dataframe\">\n",
       "  <thead>\n",
       "    <tr style=\"text-align: right;\">\n",
       "      <th></th>\n",
       "      <th>date</th>\n",
       "      <th>close</th>\n",
       "      <th>volume</th>\n",
       "      <th>open</th>\n",
       "      <th>high</th>\n",
       "      <th>low</th>\n",
       "      <th>lag1</th>\n",
       "      <th>lag2</th>\n",
       "      <th>lag3</th>\n",
       "      <th>lag4</th>\n",
       "    </tr>\n",
       "  </thead>\n",
       "  <tbody>\n",
       "    <tr>\n",
       "      <th>0</th>\n",
       "      <td>2008-09-04</td>\n",
       "      <td>26.35</td>\n",
       "      <td>66138490</td>\n",
       "      <td>26.74</td>\n",
       "      <td>26.89</td>\n",
       "      <td>26.35</td>\n",
       "      <td>NaN</td>\n",
       "      <td>NaN</td>\n",
       "      <td>NaN</td>\n",
       "      <td>NaN</td>\n",
       "    </tr>\n",
       "    <tr>\n",
       "      <th>1</th>\n",
       "      <td>2008-09-05</td>\n",
       "      <td>25.65</td>\n",
       "      <td>82222430</td>\n",
       "      <td>26.03</td>\n",
       "      <td>26.22</td>\n",
       "      <td>25.63</td>\n",
       "      <td>NaN</td>\n",
       "      <td>NaN</td>\n",
       "      <td>NaN</td>\n",
       "      <td>NaN</td>\n",
       "    </tr>\n",
       "    <tr>\n",
       "      <th>2</th>\n",
       "      <td>2008-09-08</td>\n",
       "      <td>26.12</td>\n",
       "      <td>62109170</td>\n",
       "      <td>26.21</td>\n",
       "      <td>26.33</td>\n",
       "      <td>25.67</td>\n",
       "      <td>NaN</td>\n",
       "      <td>NaN</td>\n",
       "      <td>NaN</td>\n",
       "      <td>NaN</td>\n",
       "    </tr>\n",
       "    <tr>\n",
       "      <th>3</th>\n",
       "      <td>2008-09-09</td>\n",
       "      <td>26.10</td>\n",
       "      <td>85693570</td>\n",
       "      <td>26.20</td>\n",
       "      <td>26.60</td>\n",
       "      <td>26.05</td>\n",
       "      <td>NaN</td>\n",
       "      <td>NaN</td>\n",
       "      <td>NaN</td>\n",
       "      <td>NaN</td>\n",
       "    </tr>\n",
       "    <tr>\n",
       "      <th>4</th>\n",
       "      <td>2008-09-10</td>\n",
       "      <td>26.44</td>\n",
       "      <td>75042030</td>\n",
       "      <td>26.52</td>\n",
       "      <td>26.86</td>\n",
       "      <td>26.25</td>\n",
       "      <td>NaN</td>\n",
       "      <td>NaN</td>\n",
       "      <td>NaN</td>\n",
       "      <td>NaN</td>\n",
       "    </tr>\n",
       "  </tbody>\n",
       "</table>\n",
       "</div>"
      ],
      "text/plain": [
       "        date  close    volume   open   high    low  lag1  lag2  lag3  lag4\n",
       "0 2008-09-04  26.35  66138490  26.74  26.89  26.35   NaN   NaN   NaN   NaN\n",
       "1 2008-09-05  25.65  82222430  26.03  26.22  25.63   NaN   NaN   NaN   NaN\n",
       "2 2008-09-08  26.12  62109170  26.21  26.33  25.67   NaN   NaN   NaN   NaN\n",
       "3 2008-09-09  26.10  85693570  26.20  26.60  26.05   NaN   NaN   NaN   NaN\n",
       "4 2008-09-10  26.44  75042030  26.52  26.86  26.25   NaN   NaN   NaN   NaN"
      ]
     },
     "execution_count": 101,
     "metadata": {},
     "output_type": "execute_result"
    }
   ],
   "source": [
    "stock_prices['lag1']=stock_prices['close'].shift(365)\n",
    "stock_prices['lag2']=stock_prices['close'].shift(730)\n",
    "stock_prices['lag3']=stock_prices['close'].shift(1095)\n",
    "stock_prices['lag4']=stock_prices['close'].shift(1460)\n",
    "stock_prices.head()"
   ]
  },
  {
   "cell_type": "code",
   "execution_count": 102,
   "metadata": {},
   "outputs": [
    {
     "data": {
      "text/html": [
       "<div>\n",
       "<style scoped>\n",
       "    .dataframe tbody tr th:only-of-type {\n",
       "        vertical-align: middle;\n",
       "    }\n",
       "\n",
       "    .dataframe tbody tr th {\n",
       "        vertical-align: top;\n",
       "    }\n",
       "\n",
       "    .dataframe thead th {\n",
       "        text-align: right;\n",
       "    }\n",
       "</style>\n",
       "<table border=\"1\" class=\"dataframe\">\n",
       "  <thead>\n",
       "    <tr style=\"text-align: right;\">\n",
       "      <th></th>\n",
       "      <th>date</th>\n",
       "      <th>close</th>\n",
       "      <th>volume</th>\n",
       "      <th>open</th>\n",
       "      <th>high</th>\n",
       "      <th>low</th>\n",
       "      <th>lag1</th>\n",
       "      <th>lag2</th>\n",
       "      <th>lag3</th>\n",
       "      <th>lag4</th>\n",
       "    </tr>\n",
       "  </thead>\n",
       "  <tbody>\n",
       "    <tr>\n",
       "      <th>1460</th>\n",
       "      <td>2014-06-24</td>\n",
       "      <td>41.75</td>\n",
       "      <td>26499460</td>\n",
       "      <td>41.83</td>\n",
       "      <td>41.94</td>\n",
       "      <td>41.56</td>\n",
       "      <td>26.46</td>\n",
       "      <td>27.72</td>\n",
       "      <td>28.59</td>\n",
       "      <td>26.35</td>\n",
       "    </tr>\n",
       "    <tr>\n",
       "      <th>1461</th>\n",
       "      <td>2014-06-25</td>\n",
       "      <td>42.03</td>\n",
       "      <td>20038340</td>\n",
       "      <td>41.70</td>\n",
       "      <td>42.05</td>\n",
       "      <td>41.46</td>\n",
       "      <td>26.83</td>\n",
       "      <td>27.40</td>\n",
       "      <td>28.97</td>\n",
       "      <td>25.65</td>\n",
       "    </tr>\n",
       "    <tr>\n",
       "      <th>1462</th>\n",
       "      <td>2014-06-26</td>\n",
       "      <td>41.72</td>\n",
       "      <td>23604390</td>\n",
       "      <td>41.93</td>\n",
       "      <td>41.94</td>\n",
       "      <td>41.43</td>\n",
       "      <td>26.89</td>\n",
       "      <td>27.27</td>\n",
       "      <td>28.77</td>\n",
       "      <td>26.12</td>\n",
       "    </tr>\n",
       "    <tr>\n",
       "      <th>1463</th>\n",
       "      <td>2014-06-27</td>\n",
       "      <td>42.25</td>\n",
       "      <td>70385440</td>\n",
       "      <td>41.61</td>\n",
       "      <td>42.29</td>\n",
       "      <td>41.51</td>\n",
       "      <td>27.21</td>\n",
       "      <td>26.80</td>\n",
       "      <td>28.73</td>\n",
       "      <td>26.10</td>\n",
       "    </tr>\n",
       "    <tr>\n",
       "      <th>1464</th>\n",
       "      <td>2014-06-30</td>\n",
       "      <td>41.70</td>\n",
       "      <td>30790300</td>\n",
       "      <td>42.17</td>\n",
       "      <td>42.21</td>\n",
       "      <td>41.70</td>\n",
       "      <td>27.04</td>\n",
       "      <td>26.92</td>\n",
       "      <td>28.33</td>\n",
       "      <td>26.44</td>\n",
       "    </tr>\n",
       "  </tbody>\n",
       "</table>\n",
       "</div>"
      ],
      "text/plain": [
       "           date  close    volume   open   high    low   lag1   lag2   lag3  \\\n",
       "1460 2014-06-24  41.75  26499460  41.83  41.94  41.56  26.46  27.72  28.59   \n",
       "1461 2014-06-25  42.03  20038340  41.70  42.05  41.46  26.83  27.40  28.97   \n",
       "1462 2014-06-26  41.72  23604390  41.93  41.94  41.43  26.89  27.27  28.77   \n",
       "1463 2014-06-27  42.25  70385440  41.61  42.29  41.51  27.21  26.80  28.73   \n",
       "1464 2014-06-30  41.70  30790300  42.17  42.21  41.70  27.04  26.92  28.33   \n",
       "\n",
       "       lag4  \n",
       "1460  26.35  \n",
       "1461  25.65  \n",
       "1462  26.12  \n",
       "1463  26.10  \n",
       "1464  26.44  "
      ]
     },
     "execution_count": 102,
     "metadata": {},
     "output_type": "execute_result"
    }
   ],
   "source": [
    "stock_prices.dropna(axis = 0, how = 'any', inplace = True)\n",
    "stock_prices.head()"
   ]
  },
  {
   "cell_type": "code",
   "execution_count": 103,
   "metadata": {},
   "outputs": [],
   "source": [
    "X=stock_prices[['lag1','lag2','lag3','lag4']]\n",
    "Y=stock_prices[['close']]"
   ]
  },
  {
   "cell_type": "code",
   "execution_count": 104,
   "metadata": {},
   "outputs": [
    {
     "name": "stdout",
     "output_type": "stream",
     "text": [
      "Observations: 1058\n",
      "Training Observations: 1028\n",
      "Testing Observations: 30\n"
     ]
    }
   ],
   "source": [
    "train_X, test_X = X[0:1028], X[1028:len(X)]\n",
    "train_Y, test_Y = Y[0:1028], Y[1028:len(X)]\n",
    "\n",
    "print('Observations: %d' % (len(X)))\n",
    "print('Training Observations: %d' % (len(train_X)))\n",
    "print('Testing Observations: %d' % (len(test_X)))"
   ]
  },
  {
   "cell_type": "code",
   "execution_count": 110,
   "metadata": {},
   "outputs": [],
   "source": [
    "regressor = xgb.XGBRegressor(\n",
    "    n_estimators=100,\n",
    "    reg_lambda=1,\n",
    "    gamma=0,\n",
    "    max_depth=3\n",
    ")"
   ]
  },
  {
   "cell_type": "code",
   "execution_count": 111,
   "metadata": {},
   "outputs": [
    {
     "data": {
      "text/plain": [
       "XGBRegressor(base_score=0.5, booster='gbtree', colsample_bylevel=1,\n",
       "             colsample_bynode=1, colsample_bytree=1, gamma=0, gpu_id=-1,\n",
       "             importance_type='gain', interaction_constraints='',\n",
       "             learning_rate=0.300000012, max_delta_step=0, max_depth=3,\n",
       "             min_child_weight=1, missing=nan, monotone_constraints='()',\n",
       "             n_estimators=100, n_jobs=0, num_parallel_tree=1,\n",
       "             objective='reg:squarederror', random_state=0, reg_alpha=0,\n",
       "             reg_lambda=1, scale_pos_weight=1, subsample=1, tree_method='exact',\n",
       "             validate_parameters=1, verbosity=None)"
      ]
     },
     "execution_count": 111,
     "metadata": {},
     "output_type": "execute_result"
    }
   ],
   "source": [
    "regressor.fit(train_X,train_Y)"
   ]
  },
  {
   "cell_type": "code",
   "execution_count": 107,
   "metadata": {},
   "outputs": [],
   "source": [
    "\n",
    "y_pred = regressor.predict(test_X)"
   ]
  },
  {
   "cell_type": "code",
   "execution_count": 108,
   "metadata": {},
   "outputs": [
    {
     "name": "stdout",
     "output_type": "stream",
     "text": [
      "Accuracy: 94 \n"
     ]
    }
   ],
   "source": [
    "print('Accuracy: %d ' % (100-mean_absolute_error(test_Y, y_pred)))"
   ]
  },
  {
   "cell_type": "code",
   "execution_count": 112,
   "metadata": {},
   "outputs": [
    {
     "name": "stderr",
     "output_type": "stream",
     "text": [
      "C:\\Users\\80214178\\Anaconda3\\lib\\site-packages\\ipykernel_launcher.py:2: SettingWithCopyWarning: \n",
      "A value is trying to be set on a copy of a slice from a DataFrame.\n",
      "Try using .loc[row_indexer,col_indexer] = value instead\n",
      "\n",
      "See the caveats in the documentation: https://pandas.pydata.org/pandas-docs/stable/user_guide/indexing.html#returning-a-view-versus-a-copy\n",
      "  \n"
     ]
    },
    {
     "data": {
      "text/plain": [
       "[<matplotlib.lines.Line2D at 0x2c8a944a9c8>,\n",
       " <matplotlib.lines.Line2D at 0x2c8a9c64d48>]"
      ]
     },
     "execution_count": 112,
     "metadata": {},
     "output_type": "execute_result"
    },
    {
     "data": {
      "image/png": "[encoded data removed]",
      "text/plain": [
       "<Figure size 432x288 with 1 Axes>"
      ]
     },
     "metadata": {
      "needs_background": "light"
     },
     "output_type": "display_data"
    }
   ],
   "source": [
    "test_Y.index=stock_prices.iloc[1028:len(X),0]\n",
    "test_Y['pred']=y_pred\n",
    "plt.plot(test_Y)"
   ]
  },
  {
   "cell_type": "code",
   "execution_count": null,
   "metadata": {},
   "outputs": [],
   "source": []
  },
  {
   "cell_type": "code",
   "execution_count": null,
   "metadata": {},
   "outputs": [],
   "source": []
  },
  {
   "cell_type": "code",
   "execution_count": null,
   "metadata": {},
   "outputs": [],
   "source": []
  }
 ],
 "metadata": {
  "kernelspec": {
   "display_name": "Python 3",
   "language": "python",
   "name": "python3"
  },
  "language_info": {
   "codemirror_mode": {
    "name": "ipython",
    "version": 3
   },
   "file_extension": ".py",
   "mimetype": "text/x-python",
   "name": "python",
   "nbconvert_exporter": "python",
   "pygments_lexer": "ipython3",
   "version": "3.7.6"
  }
 },
 "nbformat": 4,
 "nbformat_minor": 4
}
