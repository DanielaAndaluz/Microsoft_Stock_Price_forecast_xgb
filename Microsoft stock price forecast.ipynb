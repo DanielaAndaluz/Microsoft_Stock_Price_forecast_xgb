{
 "cells": [
  {
   "cell_type": "code",
   "execution_count": 1,
   "metadata": {},
   "outputs": [],
   "source": [
    "#Import libraries\n",
    "import numpy as np\n",
    "import pandas as pd\n",
    "import xgboost as xgb\n",
    "from sklearn.metrics import mean_absolute_error\n",
    "import matplotlib.pyplot as plt\n",
    "from statsmodels.tsa.seasonal import seasonal_decompose\n",
    "from datetime import datetime\n"
   ]
  },
  {
   "cell_type": "code",
   "execution_count": 2,
   "metadata": {},
   "outputs": [],
   "source": [
    "def mean_absolute_percentage_error(y_true, y_pred): \n",
    "    y_true, y_pred = np.array(y_true), np.array(y_pred)\n",
    "    return np.mean(np.abs((y_true - y_pred) / y_true)) * 100"
   ]
  },
  {
   "cell_type": "code",
   "execution_count": 3,
   "metadata": {},
   "outputs": [
    {
     "data": {
      "text/html": [
       "<div>\n",
       "<style scoped>\n",
       "    .dataframe tbody tr th:only-of-type {\n",
       "        vertical-align: middle;\n",
       "    }\n",
       "\n",
       "    .dataframe tbody tr th {\n",
       "        vertical-align: top;\n",
       "    }\n",
       "\n",
       "    .dataframe thead th {\n",
       "        text-align: right;\n",
       "    }\n",
       "</style>\n",
       "<table border=\"1\" class=\"dataframe\">\n",
       "  <thead>\n",
       "    <tr style=\"text-align: right;\">\n",
       "      <th></th>\n",
       "      <th>date</th>\n",
       "      <th>close</th>\n",
       "      <th>volume</th>\n",
       "      <th>open</th>\n",
       "      <th>high</th>\n",
       "      <th>low</th>\n",
       "    </tr>\n",
       "  </thead>\n",
       "  <tbody>\n",
       "    <tr>\n",
       "      <th>0</th>\n",
       "      <td>2008-09-04</td>\n",
       "      <td>26.35</td>\n",
       "      <td>66138490</td>\n",
       "      <td>26.74</td>\n",
       "      <td>26.89</td>\n",
       "      <td>26.35</td>\n",
       "    </tr>\n",
       "    <tr>\n",
       "      <th>1</th>\n",
       "      <td>2008-09-05</td>\n",
       "      <td>25.65</td>\n",
       "      <td>82222430</td>\n",
       "      <td>26.03</td>\n",
       "      <td>26.22</td>\n",
       "      <td>25.63</td>\n",
       "    </tr>\n",
       "    <tr>\n",
       "      <th>2</th>\n",
       "      <td>2008-09-08</td>\n",
       "      <td>26.12</td>\n",
       "      <td>62109170</td>\n",
       "      <td>26.21</td>\n",
       "      <td>26.33</td>\n",
       "      <td>25.67</td>\n",
       "    </tr>\n",
       "    <tr>\n",
       "      <th>3</th>\n",
       "      <td>2008-09-09</td>\n",
       "      <td>26.10</td>\n",
       "      <td>85693570</td>\n",
       "      <td>26.20</td>\n",
       "      <td>26.60</td>\n",
       "      <td>26.05</td>\n",
       "    </tr>\n",
       "    <tr>\n",
       "      <th>4</th>\n",
       "      <td>2008-09-10</td>\n",
       "      <td>26.44</td>\n",
       "      <td>75042030</td>\n",
       "      <td>26.52</td>\n",
       "      <td>26.86</td>\n",
       "      <td>26.25</td>\n",
       "    </tr>\n",
       "  </tbody>\n",
       "</table>\n",
       "</div>"
      ],
      "text/plain": [
       "        date  close    volume   open   high    low\n",
       "0 2008-09-04  26.35  66138490  26.74  26.89  26.35\n",
       "1 2008-09-05  25.65  82222430  26.03  26.22  25.63\n",
       "2 2008-09-08  26.12  62109170  26.21  26.33  25.67\n",
       "3 2008-09-09  26.10  85693570  26.20  26.60  26.05\n",
       "4 2008-09-10  26.44  75042030  26.52  26.86  26.25"
      ]
     },
     "execution_count": 3,
     "metadata": {},
     "output_type": "execute_result"
    }
   ],
   "source": [
    "stock_prices=pd.read_csv('C:/Users/80214178/Downloads/HistoricalQuotes.csv',dayfirst=True, parse_dates=[0])\n",
    "stock_prices.head()"
   ]
  },
  {
   "cell_type": "code",
   "execution_count": 4,
   "metadata": {},
   "outputs": [
    {
     "data": {
      "text/plain": [
       "[<matplotlib.lines.Line2D at 0x1d8bb463a48>]"
      ]
     },
     "execution_count": 4,
     "metadata": {},
     "output_type": "execute_result"
    },
    {
     "data": {
      "image/png": "[encoded data removed]",
      "text/plain": [
       "<Figure size 432x288 with 1 Axes>"
      ]
     },
     "metadata": {
      "needs_background": "light"
     },
     "output_type": "display_data"
    }
   ],
   "source": [
    "plt.plot(stock_prices['date'],stock_prices['close'])"
   ]
  },
  {
   "cell_type": "code",
   "execution_count": 5,
   "metadata": {},
   "outputs": [],
   "source": [
    "y = stock_prices['close'].astype(np.float)\n",
    "stock_prices['close']=y"
   ]
  },
  {
   "cell_type": "code",
   "execution_count": 6,
   "metadata": {},
   "outputs": [
    {
     "data": {
      "text/html": [
       "<div>\n",
       "<style scoped>\n",
       "    .dataframe tbody tr th:only-of-type {\n",
       "        vertical-align: middle;\n",
       "    }\n",
       "\n",
       "    .dataframe tbody tr th {\n",
       "        vertical-align: top;\n",
       "    }\n",
       "\n",
       "    .dataframe thead th {\n",
       "        text-align: right;\n",
       "    }\n",
       "</style>\n",
       "<table border=\"1\" class=\"dataframe\">\n",
       "  <thead>\n",
       "    <tr style=\"text-align: right;\">\n",
       "      <th></th>\n",
       "      <th>date</th>\n",
       "      <th>close</th>\n",
       "      <th>volume</th>\n",
       "      <th>open</th>\n",
       "      <th>high</th>\n",
       "      <th>low</th>\n",
       "      <th>lag1</th>\n",
       "      <th>lag2</th>\n",
       "      <th>lag3</th>\n",
       "      <th>lag4</th>\n",
       "      <th>lag5</th>\n",
       "      <th>lag6</th>\n",
       "      <th>lag7</th>\n",
       "      <th>lag8</th>\n",
       "    </tr>\n",
       "  </thead>\n",
       "  <tbody>\n",
       "    <tr>\n",
       "      <th>0</th>\n",
       "      <td>2008-09-04</td>\n",
       "      <td>26.35</td>\n",
       "      <td>66138490</td>\n",
       "      <td>26.74</td>\n",
       "      <td>26.89</td>\n",
       "      <td>26.35</td>\n",
       "      <td>NaN</td>\n",
       "      <td>NaN</td>\n",
       "      <td>NaN</td>\n",
       "      <td>NaN</td>\n",
       "      <td>NaN</td>\n",
       "      <td>NaN</td>\n",
       "      <td>NaN</td>\n",
       "      <td>NaN</td>\n",
       "    </tr>\n",
       "    <tr>\n",
       "      <th>1</th>\n",
       "      <td>2008-09-05</td>\n",
       "      <td>25.65</td>\n",
       "      <td>82222430</td>\n",
       "      <td>26.03</td>\n",
       "      <td>26.22</td>\n",
       "      <td>25.63</td>\n",
       "      <td>26.35</td>\n",
       "      <td>26.74</td>\n",
       "      <td>NaN</td>\n",
       "      <td>NaN</td>\n",
       "      <td>NaN</td>\n",
       "      <td>NaN</td>\n",
       "      <td>NaN</td>\n",
       "      <td>NaN</td>\n",
       "    </tr>\n",
       "    <tr>\n",
       "      <th>2</th>\n",
       "      <td>2008-09-08</td>\n",
       "      <td>26.12</td>\n",
       "      <td>62109170</td>\n",
       "      <td>26.21</td>\n",
       "      <td>26.33</td>\n",
       "      <td>25.67</td>\n",
       "      <td>25.65</td>\n",
       "      <td>26.03</td>\n",
       "      <td>26.35</td>\n",
       "      <td>26.74</td>\n",
       "      <td>NaN</td>\n",
       "      <td>NaN</td>\n",
       "      <td>NaN</td>\n",
       "      <td>NaN</td>\n",
       "    </tr>\n",
       "    <tr>\n",
       "      <th>3</th>\n",
       "      <td>2008-09-09</td>\n",
       "      <td>26.10</td>\n",
       "      <td>85693570</td>\n",
       "      <td>26.20</td>\n",
       "      <td>26.60</td>\n",
       "      <td>26.05</td>\n",
       "      <td>26.12</td>\n",
       "      <td>26.21</td>\n",
       "      <td>25.65</td>\n",
       "      <td>26.03</td>\n",
       "      <td>26.35</td>\n",
       "      <td>26.74</td>\n",
       "      <td>NaN</td>\n",
       "      <td>NaN</td>\n",
       "    </tr>\n",
       "    <tr>\n",
       "      <th>4</th>\n",
       "      <td>2008-09-10</td>\n",
       "      <td>26.44</td>\n",
       "      <td>75042030</td>\n",
       "      <td>26.52</td>\n",
       "      <td>26.86</td>\n",
       "      <td>26.25</td>\n",
       "      <td>26.10</td>\n",
       "      <td>26.20</td>\n",
       "      <td>26.12</td>\n",
       "      <td>26.21</td>\n",
       "      <td>25.65</td>\n",
       "      <td>26.03</td>\n",
       "      <td>26.35</td>\n",
       "      <td>26.74</td>\n",
       "    </tr>\n",
       "  </tbody>\n",
       "</table>\n",
       "</div>"
      ],
      "text/plain": [
       "        date  close    volume   open   high    low   lag1   lag2   lag3  \\\n",
       "0 2008-09-04  26.35  66138490  26.74  26.89  26.35    NaN    NaN    NaN   \n",
       "1 2008-09-05  25.65  82222430  26.03  26.22  25.63  26.35  26.74    NaN   \n",
       "2 2008-09-08  26.12  62109170  26.21  26.33  25.67  25.65  26.03  26.35   \n",
       "3 2008-09-09  26.10  85693570  26.20  26.60  26.05  26.12  26.21  25.65   \n",
       "4 2008-09-10  26.44  75042030  26.52  26.86  26.25  26.10  26.20  26.12   \n",
       "\n",
       "    lag4   lag5   lag6   lag7   lag8  \n",
       "0    NaN    NaN    NaN    NaN    NaN  \n",
       "1    NaN    NaN    NaN    NaN    NaN  \n",
       "2  26.74    NaN    NaN    NaN    NaN  \n",
       "3  26.03  26.35  26.74    NaN    NaN  \n",
       "4  26.21  25.65  26.03  26.35  26.74  "
      ]
     },
     "execution_count": 6,
     "metadata": {},
     "output_type": "execute_result"
    }
   ],
   "source": [
    "stock_prices['lag1']=stock_prices['close'].shift(1)\n",
    "stock_prices['lag2']=stock_prices['open'].shift(1)\n",
    "stock_prices['lag3']=stock_prices['close'].shift(2)\n",
    "stock_prices['lag4']=stock_prices['open'].shift(2)\n",
    "stock_prices['lag5']=stock_prices['close'].shift(3)\n",
    "stock_prices['lag6']=stock_prices['open'].shift(3)\n",
    "stock_prices['lag7']=stock_prices['close'].shift(4)\n",
    "stock_prices['lag8']=stock_prices['open'].shift(4)\n",
    "\n",
    "stock_prices.head()"
   ]
  },
  {
   "cell_type": "code",
   "execution_count": 7,
   "metadata": {},
   "outputs": [
    {
     "data": {
      "text/html": [
       "<div>\n",
       "<style scoped>\n",
       "    .dataframe tbody tr th:only-of-type {\n",
       "        vertical-align: middle;\n",
       "    }\n",
       "\n",
       "    .dataframe tbody tr th {\n",
       "        vertical-align: top;\n",
       "    }\n",
       "\n",
       "    .dataframe thead th {\n",
       "        text-align: right;\n",
       "    }\n",
       "</style>\n",
       "<table border=\"1\" class=\"dataframe\">\n",
       "  <thead>\n",
       "    <tr style=\"text-align: right;\">\n",
       "      <th></th>\n",
       "      <th>date</th>\n",
       "      <th>close</th>\n",
       "      <th>volume</th>\n",
       "      <th>open</th>\n",
       "      <th>high</th>\n",
       "      <th>low</th>\n",
       "      <th>lag1</th>\n",
       "      <th>lag2</th>\n",
       "      <th>lag3</th>\n",
       "      <th>lag4</th>\n",
       "      <th>lag5</th>\n",
       "      <th>lag6</th>\n",
       "      <th>lag7</th>\n",
       "      <th>lag8</th>\n",
       "    </tr>\n",
       "  </thead>\n",
       "  <tbody>\n",
       "    <tr>\n",
       "      <th>4</th>\n",
       "      <td>2008-09-10</td>\n",
       "      <td>26.44</td>\n",
       "      <td>75042030</td>\n",
       "      <td>26.52</td>\n",
       "      <td>26.86</td>\n",
       "      <td>26.25</td>\n",
       "      <td>26.10</td>\n",
       "      <td>26.20</td>\n",
       "      <td>26.12</td>\n",
       "      <td>26.21</td>\n",
       "      <td>25.65</td>\n",
       "      <td>26.03</td>\n",
       "      <td>26.35</td>\n",
       "      <td>26.74</td>\n",
       "    </tr>\n",
       "    <tr>\n",
       "      <th>5</th>\n",
       "      <td>2008-09-11</td>\n",
       "      <td>27.34</td>\n",
       "      <td>72899550</td>\n",
       "      <td>26.10</td>\n",
       "      <td>27.46</td>\n",
       "      <td>26.03</td>\n",
       "      <td>26.44</td>\n",
       "      <td>26.52</td>\n",
       "      <td>26.10</td>\n",
       "      <td>26.20</td>\n",
       "      <td>26.12</td>\n",
       "      <td>26.21</td>\n",
       "      <td>25.65</td>\n",
       "      <td>26.03</td>\n",
       "    </tr>\n",
       "    <tr>\n",
       "      <th>6</th>\n",
       "      <td>2008-09-12</td>\n",
       "      <td>27.62</td>\n",
       "      <td>75570240</td>\n",
       "      <td>27.14</td>\n",
       "      <td>27.74</td>\n",
       "      <td>26.94</td>\n",
       "      <td>27.34</td>\n",
       "      <td>26.10</td>\n",
       "      <td>26.44</td>\n",
       "      <td>26.52</td>\n",
       "      <td>26.10</td>\n",
       "      <td>26.20</td>\n",
       "      <td>26.12</td>\n",
       "      <td>26.21</td>\n",
       "    </tr>\n",
       "    <tr>\n",
       "      <th>7</th>\n",
       "      <td>2008-09-15</td>\n",
       "      <td>26.82</td>\n",
       "      <td>82312390</td>\n",
       "      <td>26.92</td>\n",
       "      <td>27.49</td>\n",
       "      <td>26.73</td>\n",
       "      <td>27.62</td>\n",
       "      <td>27.14</td>\n",
       "      <td>27.34</td>\n",
       "      <td>26.10</td>\n",
       "      <td>26.44</td>\n",
       "      <td>26.52</td>\n",
       "      <td>26.10</td>\n",
       "      <td>26.20</td>\n",
       "    </tr>\n",
       "    <tr>\n",
       "      <th>8</th>\n",
       "      <td>2008-09-16</td>\n",
       "      <td>25.99</td>\n",
       "      <td>111658400</td>\n",
       "      <td>26.09</td>\n",
       "      <td>26.49</td>\n",
       "      <td>25.52</td>\n",
       "      <td>26.82</td>\n",
       "      <td>26.92</td>\n",
       "      <td>27.62</td>\n",
       "      <td>27.14</td>\n",
       "      <td>27.34</td>\n",
       "      <td>26.10</td>\n",
       "      <td>26.44</td>\n",
       "      <td>26.52</td>\n",
       "    </tr>\n",
       "  </tbody>\n",
       "</table>\n",
       "</div>"
      ],
      "text/plain": [
       "        date  close     volume   open   high    low   lag1   lag2   lag3  \\\n",
       "4 2008-09-10  26.44   75042030  26.52  26.86  26.25  26.10  26.20  26.12   \n",
       "5 2008-09-11  27.34   72899550  26.10  27.46  26.03  26.44  26.52  26.10   \n",
       "6 2008-09-12  27.62   75570240  27.14  27.74  26.94  27.34  26.10  26.44   \n",
       "7 2008-09-15  26.82   82312390  26.92  27.49  26.73  27.62  27.14  27.34   \n",
       "8 2008-09-16  25.99  111658400  26.09  26.49  25.52  26.82  26.92  27.62   \n",
       "\n",
       "    lag4   lag5   lag6   lag7   lag8  \n",
       "4  26.21  25.65  26.03  26.35  26.74  \n",
       "5  26.20  26.12  26.21  25.65  26.03  \n",
       "6  26.52  26.10  26.20  26.12  26.21  \n",
       "7  26.10  26.44  26.52  26.10  26.20  \n",
       "8  27.14  27.34  26.10  26.44  26.52  "
      ]
     },
     "execution_count": 7,
     "metadata": {},
     "output_type": "execute_result"
    }
   ],
   "source": [
    "stock_prices.dropna(axis = 0, how = 'any', inplace = True)\n",
    "stock_prices.head()"
   ]
  },
  {
   "cell_type": "code",
   "execution_count": 8,
   "metadata": {},
   "outputs": [],
   "source": [
    "data=stock_prices[stock_prices['date']>=\"2016-01-01\"]"
   ]
  },
  {
   "cell_type": "code",
   "execution_count": 9,
   "metadata": {},
   "outputs": [],
   "source": [
    "#Ahora armamos en input \n",
    "X=data[['lag1','lag2','lag3','lag4','lag5','lag6','lag7','lag8']]\n",
    "Y=data[['close']]"
   ]
  },
  {
   "cell_type": "code",
   "execution_count": 10,
   "metadata": {},
   "outputs": [
    {
     "name": "stdout",
     "output_type": "stream",
     "text": [
      "Observations: 673\n",
      "Training Observations: 538\n",
      "Testing Observations: 135\n"
     ]
    }
   ],
   "source": [
    "train_size = int(len(data)* 0.8)\n",
    "train_X, test_X = X[0:train_size], X[train_size:len(X)]\n",
    "train_Y, test_Y = Y[0:train_size], Y[train_size:len(X)]\n",
    "\n",
    "print('Observations: %d' % (len(X)))\n",
    "print('Training Observations: %d' % (len(train_X)))\n",
    "print('Testing Observations: %d' % (len(test_Y)))"
   ]
  },
  {
   "cell_type": "code",
   "execution_count": 11,
   "metadata": {},
   "outputs": [],
   "source": [
    "regressor = xgb.XGBRegressor(\n",
    "    n_estimators=100,\n",
    "    reg_lambda=1,\n",
    "    gamma=0\n",
    ")"
   ]
  },
  {
   "cell_type": "code",
   "execution_count": 12,
   "metadata": {},
   "outputs": [
    {
     "data": {
      "text/plain": [
       "XGBRegressor(base_score=0.5, booster='gbtree', colsample_bylevel=1,\n",
       "             colsample_bynode=1, colsample_bytree=1, gamma=0, gpu_id=-1,\n",
       "             importance_type='gain', interaction_constraints='',\n",
       "             learning_rate=0.300000012, max_delta_step=0, max_depth=6,\n",
       "             min_child_weight=1, missing=nan, monotone_constraints='()',\n",
       "             n_estimators=100, n_jobs=0, num_parallel_tree=1,\n",
       "             objective='reg:squarederror', random_state=0, reg_alpha=0,\n",
       "             reg_lambda=1, scale_pos_weight=1, subsample=1, tree_method='exact',\n",
       "             validate_parameters=1, verbosity=None)"
      ]
     },
     "execution_count": 12,
     "metadata": {},
     "output_type": "execute_result"
    }
   ],
   "source": [
    "regressor.fit(train_X,train_Y)"
   ]
  },
  {
   "cell_type": "code",
   "execution_count": 13,
   "metadata": {},
   "outputs": [],
   "source": [
    "y_pred = regressor.predict(test_X)"
   ]
  },
  {
   "cell_type": "code",
   "execution_count": 14,
   "metadata": {},
   "outputs": [
    {
     "data": {
      "text/plain": [
       "8.455717744841944"
      ]
     },
     "execution_count": 14,
     "metadata": {},
     "output_type": "execute_result"
    }
   ],
   "source": [
    "mean_absolute_percentage_error(test_Y, y_pred)"
   ]
  },
  {
   "cell_type": "code",
   "execution_count": 15,
   "metadata": {},
   "outputs": [
    {
     "name": "stderr",
     "output_type": "stream",
     "text": [
      "C:\\Users\\80214178\\Anaconda3\\lib\\site-packages\\ipykernel_launcher.py:2: SettingWithCopyWarning: \n",
      "A value is trying to be set on a copy of a slice from a DataFrame.\n",
      "Try using .loc[row_indexer,col_indexer] = value instead\n",
      "\n",
      "See the caveats in the documentation: https://pandas.pydata.org/pandas-docs/stable/user_guide/indexing.html#returning-a-view-versus-a-copy\n",
      "  \n"
     ]
    },
    {
     "data": {
      "text/plain": [
       "[<matplotlib.lines.Line2D at 0x1d8bc226448>,\n",
       " <matplotlib.lines.Line2D at 0x1d8bc257688>]"
      ]
     },
     "execution_count": 15,
     "metadata": {},
     "output_type": "execute_result"
    },
    {
     "data": {
      "image/png": "[encoded data removed]",
      "text/plain": [
       "<Figure size 432x288 with 1 Axes>"
      ]
     },
     "metadata": {
      "needs_background": "light"
     },
     "output_type": "display_data"
    }
   ],
   "source": [
    "test_Y.index=data.iloc[train_size:len(X),0]\n",
    "test_Y['pred']=y_pred\n",
    "plt.plot(test_Y.iloc[0:30,])\n"
   ]
  },
  {
   "cell_type": "code",
   "execution_count": 16,
   "metadata": {},
   "outputs": [
    {
     "data": {
      "text/plain": [
       "<matplotlib.axes._subplots.AxesSubplot at 0x1d8bc313f88>"
      ]
     },
     "execution_count": 16,
     "metadata": {},
     "output_type": "execute_result"
    },
    {
     "data": {
      "image/png": "[encoded data removed]",
      "text/plain": [
       "<Figure size 432x288 with 1 Axes>"
      ]
     },
     "metadata": {
      "needs_background": "light"
     },
     "output_type": "display_data"
    }
   ],
   "source": [
    "Y.index=data['date']\n",
    "df_all = pd.merge(Y.iloc[0:570,0], test_Y.iloc[0:30,1], how = 'outer', left_index=True, right_index=True)\n",
    "df_all.plot()"
   ]
  },
  {
   "cell_type": "code",
   "execution_count": 17,
   "metadata": {},
   "outputs": [
    {
     "data": {
      "text/plain": [
       "2.0404959256238633"
      ]
     },
     "execution_count": 17,
     "metadata": {},
     "output_type": "execute_result"
    }
   ],
   "source": [
    "mean_absolute_percentage_error(test_Y.iloc[0:30,0], test_Y.iloc[0:30,1])"
   ]
  },
  {
   "cell_type": "code",
   "execution_count": null,
   "metadata": {},
   "outputs": [],
   "source": []
  }
 ],
 "metadata": {
  "kernelspec": {
   "display_name": "Python 3",
   "language": "python",
   "name": "python3"
  },
  "language_info": {
   "codemirror_mode": {
    "name": "ipython",
    "version": 3
   },
   "file_extension": ".py",
   "mimetype": "text/x-python",
   "name": "python",
   "nbconvert_exporter": "python",
   "pygments_lexer": "ipython3",
   "version": "3.7.6"
  }
 },
 "nbformat": 4,
 "nbformat_minor": 4
}
